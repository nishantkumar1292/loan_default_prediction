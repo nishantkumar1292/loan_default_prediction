{
 "cells": [
  {
   "cell_type": "markdown",
   "metadata": {},
   "source": [
    "# Data Analysis and Modeling for Loan Defaults\n",
    "The objective of this notebook is to explore the datasets provided for the assignment. Three categories of data was included are given below. Total number of users were 400.\n",
    "1. **loan_outcomes** - Contains application_date and final loan outcome for all users.\n",
    "2. **user_gps_fixes** - Contains gps_data points every time the customer opens the app. The data is comprised of geo-spatial attribtes such as lat, long, altitude, accuracy of data etc.\n",
    "3. **user_attributes** - Contains user attributes such as age & income in last 30 days\n",
    "\n",
    "**NO external datasets have been used. The jupyter notebook can be run sequentially provided all the import dependencies are met.**\n",
    "\n",
    "The notebook is structured as given below. There are no distinct sections as such in the notebook. But small headings have been provided wherever necessary.\n",
    "1. all the imports\n",
    "2. conncetion to Postres DB\n",
    "3. getting dataset into DF\n",
    "4. analysing the data using multiple charts\n",
    "5. Feature engineering for modeling\n",
    "6. Acutal modeling - sklearn models created\n",
    "7. Validation and testing model perfromance\n",
    "8. Building an API to test on new data. The input data is formatted as JSON(or dict) for use over http.\n",
    "9. Ideas and possible next steps if the dataset was large"
   ]
  },
  {
   "cell_type": "code",
   "execution_count": 326,
   "metadata": {},
   "outputs": [],
   "source": [
    "#generic imports\n",
    "import psycopg2\n",
    "import pandas as pd\n",
    "import numpy as np\n",
    "from sqlalchemy import create_engine\n",
    "from matplotlib import pyplot as plt\n",
    "import seaborn as sns\n",
    "import random\n",
    "#modeling imports\n",
    "from sklearn.model_selection import train_test_split\n",
    "from sklearn.feature_selection import VarianceThreshold\n",
    "from sklearn.ensemble import RandomForestClassifier\n",
    "from sklearn.metrics import classification_report, confusion_matrix\n",
    "import pickle"
   ]
  },
  {
   "cell_type": "code",
   "execution_count": 4,
   "metadata": {},
   "outputs": [],
   "source": [
    "#create alchemy engine\n",
    "postgres_url = 'postgresql+psycopg2://<user-name>:<password>@<host>/<db_name>'\n",
    "alchemy_engine = create_engine(postgres_url, pool_recycle=3600)"
   ]
  },
  {
   "cell_type": "code",
   "execution_count": 5,
   "metadata": {},
   "outputs": [],
   "source": [
    "#connect to postgres\n",
    "db_connection = alchemy_engine.connect()"
   ]
  },
  {
   "cell_type": "code",
   "execution_count": 7,
   "metadata": {},
   "outputs": [],
   "source": [
    "#read the data into pandas\n",
    "loan_outcomes_df = pd.read_sql(\"select * from \\\"loan_outcomes\\\"\", db_connection)\n",
    "user_gps_fixes_df = pd.read_sql(\"select * from \\\"user_gps_fixes\\\"\", db_connection)\n",
    "user_attributes_df = pd.read_sql(\"select * from \\\"user_attributes\\\"\", db_connection)"
   ]
  },
  {
   "cell_type": "code",
   "execution_count": 9,
   "metadata": {},
   "outputs": [
    {
     "name": "stderr",
     "output_type": "stream",
     "text": [
      "Exception during reset or similar\n",
      "Traceback (most recent call last):\n",
      "  File \"C:\\Users\\nk862\\.conda\\envs\\ml\\lib\\site-packages\\sqlalchemy\\pool\\base.py\", line 697, in _finalize_fairy\n",
      "    fairy._reset(pool)\n",
      "  File \"C:\\Users\\nk862\\.conda\\envs\\ml\\lib\\site-packages\\sqlalchemy\\pool\\base.py\", line 893, in _reset\n",
      "    pool._dialect.do_rollback(self)\n",
      "  File \"C:\\Users\\nk862\\.conda\\envs\\ml\\lib\\site-packages\\sqlalchemy\\engine\\default.py\", line 543, in do_rollback\n",
      "    dbapi_connection.rollback()\n",
      "psycopg2.OperationalError: server closed the connection unexpectedly\n",
      "\tThis probably means the server terminated abnormally\n",
      "\tbefore or while processing the request.\n",
      "\n"
     ]
    }
   ],
   "source": [
    "db_connection.close()"
   ]
  },
  {
   "cell_type": "code",
   "execution_count": 10,
   "metadata": {},
   "outputs": [
    {
     "name": "stdout",
     "output_type": "stream",
     "text": [
      "loan_outcomes_df shape (400, 3)\n",
      "user_gps_fixes_df shape (26710, 9)\n",
      "user_attributes_df shape (400, 3)\n"
     ]
    }
   ],
   "source": [
    "#get shapes\n",
    "print(\"loan_outcomes_df shape\", loan_outcomes_df.shape)\n",
    "print(\"user_gps_fixes_df shape\", user_gps_fixes_df.shape)\n",
    "print(\"user_attributes_df shape\", user_attributes_df.shape)"
   ]
  },
  {
   "cell_type": "code",
   "execution_count": 11,
   "metadata": {},
   "outputs": [
    {
     "data": {
      "text/html": [
       "<div>\n",
       "<style scoped>\n",
       "    .dataframe tbody tr th:only-of-type {\n",
       "        vertical-align: middle;\n",
       "    }\n",
       "\n",
       "    .dataframe tbody tr th {\n",
       "        vertical-align: top;\n",
       "    }\n",
       "\n",
       "    .dataframe thead th {\n",
       "        text-align: right;\n",
       "    }\n",
       "</style>\n",
       "<table border=\"1\" class=\"dataframe\">\n",
       "  <thead>\n",
       "    <tr style=\"text-align: right;\">\n",
       "      <th></th>\n",
       "      <th>user_id</th>\n",
       "      <th>application_at</th>\n",
       "      <th>loan_outcome</th>\n",
       "    </tr>\n",
       "  </thead>\n",
       "  <tbody>\n",
       "    <tr>\n",
       "      <th>0</th>\n",
       "      <td>1</td>\n",
       "      <td>2017-08-14 09:08:50.000000</td>\n",
       "      <td>defaulted</td>\n",
       "    </tr>\n",
       "    <tr>\n",
       "      <th>1</th>\n",
       "      <td>2</td>\n",
       "      <td>2016-05-17 10:10:12.447976</td>\n",
       "      <td>repaid</td>\n",
       "    </tr>\n",
       "    <tr>\n",
       "      <th>2</th>\n",
       "      <td>3</td>\n",
       "      <td>2016-10-20 10:07:20.459081</td>\n",
       "      <td>defaulted</td>\n",
       "    </tr>\n",
       "    <tr>\n",
       "      <th>3</th>\n",
       "      <td>4</td>\n",
       "      <td>2017-01-13 13:03:34.000000</td>\n",
       "      <td>defaulted</td>\n",
       "    </tr>\n",
       "    <tr>\n",
       "      <th>4</th>\n",
       "      <td>5</td>\n",
       "      <td>2016-11-03 15:41:39.124610</td>\n",
       "      <td>repaid</td>\n",
       "    </tr>\n",
       "  </tbody>\n",
       "</table>\n",
       "</div>"
      ],
      "text/plain": [
       "   user_id             application_at loan_outcome\n",
       "0        1 2017-08-14 09:08:50.000000    defaulted\n",
       "1        2 2016-05-17 10:10:12.447976       repaid\n",
       "2        3 2016-10-20 10:07:20.459081    defaulted\n",
       "3        4 2017-01-13 13:03:34.000000    defaulted\n",
       "4        5 2016-11-03 15:41:39.124610       repaid"
      ]
     },
     "execution_count": 11,
     "metadata": {},
     "output_type": "execute_result"
    }
   ],
   "source": [
    "loan_outcomes_df.head()"
   ]
  },
  {
   "cell_type": "code",
   "execution_count": 13,
   "metadata": {},
   "outputs": [
    {
     "data": {
      "text/plain": [
       "user_id                    int64\n",
       "application_at    datetime64[ns]\n",
       "loan_outcome              object\n",
       "dtype: object"
      ]
     },
     "execution_count": 13,
     "metadata": {},
     "output_type": "execute_result"
    }
   ],
   "source": [
    "#check dtypes\n",
    "loan_outcomes_df.dtypes"
   ]
  },
  {
   "cell_type": "code",
   "execution_count": 14,
   "metadata": {},
   "outputs": [
    {
     "data": {
      "text/plain": [
       "defaulted    200\n",
       "repaid       200\n",
       "Name: loan_outcome, dtype: int64"
      ]
     },
     "execution_count": 14,
     "metadata": {},
     "output_type": "execute_result"
    }
   ],
   "source": [
    "loan_outcomes_df['loan_outcome'].value_counts()"
   ]
  },
  {
   "cell_type": "code",
   "execution_count": 16,
   "metadata": {},
   "outputs": [
    {
     "name": "stdout",
     "output_type": "stream",
     "text": [
      "application_dt min 2015-06-29 15:30:55\n",
      "application_dt max 2018-12-19 11:42:23\n"
     ]
    }
   ],
   "source": [
    "#check min-max of dates\n",
    "print(\"application_dt min\", loan_outcomes_df['application_at'].min())\n",
    "print(\"application_dt max\", loan_outcomes_df['application_at'].max())"
   ]
  },
  {
   "cell_type": "code",
   "execution_count": 18,
   "metadata": {},
   "outputs": [
    {
     "data": {
      "text/plain": [
       "<matplotlib.axes._subplots.AxesSubplot at 0x1fd5e5f4748>"
      ]
     },
     "execution_count": 18,
     "metadata": {},
     "output_type": "execute_result"
    },
    {
     "data": {
      "image/png": "[encoded data removed]",
      "text/plain": [
       "<Figure size 432x288 with 1 Axes>"
      ]
     },
     "metadata": {
      "needs_background": "light"
     },
     "output_type": "display_data"
    }
   ],
   "source": [
    "#number of loans booked by month\n",
    "loan_outcomes_df.groupby(loan_outcomes_df['application_at'].dt.to_period(\"M\")).size().plot()"
   ]
  },
  {
   "cell_type": "code",
   "execution_count": 33,
   "metadata": {},
   "outputs": [
    {
     "data": {
      "text/plain": [
       "<matplotlib.axes._subplots.AxesSubplot at 0x1fd5fa42b08>"
      ]
     },
     "execution_count": 33,
     "metadata": {},
     "output_type": "execute_result"
    },
    {
     "data": {
      "image/png": "[encoded data removed]",
      "text/plain": [
       "<Figure size 432x288 with 1 Axes>"
      ]
     },
     "metadata": {
      "needs_background": "light"
     },
     "output_type": "display_data"
    }
   ],
   "source": [
    "pd.pivot_table(loan_outcomes_df, index=loan_outcomes_df['application_at'].dt.to_period(\"M\"), columns='loan_outcome', \n",
    "               values='user_id', aggfunc=lambda x: len(x.unique())).fillna(0).plot()"
   ]
  },
  {
   "cell_type": "code",
   "execution_count": 34,
   "metadata": {},
   "outputs": [
    {
     "data": {
      "text/html": [
       "<div>\n",
       "<style scoped>\n",
       "    .dataframe tbody tr th:only-of-type {\n",
       "        vertical-align: middle;\n",
       "    }\n",
       "\n",
       "    .dataframe tbody tr th {\n",
       "        vertical-align: top;\n",
       "    }\n",
       "\n",
       "    .dataframe thead th {\n",
       "        text-align: right;\n",
       "    }\n",
       "</style>\n",
       "<table border=\"1\" class=\"dataframe\">\n",
       "  <thead>\n",
       "    <tr style=\"text-align: right;\">\n",
       "      <th></th>\n",
       "      <th>gps_fix_at</th>\n",
       "      <th>server_upload_at</th>\n",
       "      <th>longitude</th>\n",
       "      <th>latitude</th>\n",
       "      <th>accuracy</th>\n",
       "      <th>altitude</th>\n",
       "      <th>bearing</th>\n",
       "      <th>location_provider</th>\n",
       "      <th>user_id</th>\n",
       "    </tr>\n",
       "  </thead>\n",
       "  <tbody>\n",
       "    <tr>\n",
       "      <th>0</th>\n",
       "      <td>2017-06-22 09:37:20</td>\n",
       "      <td>2017-06-22 09:43:42</td>\n",
       "      <td>36.840540</td>\n",
       "      <td>-1.294342</td>\n",
       "      <td>68.4</td>\n",
       "      <td>0.0</td>\n",
       "      <td>0.0</td>\n",
       "      <td>fused</td>\n",
       "      <td>1</td>\n",
       "    </tr>\n",
       "    <tr>\n",
       "      <th>1</th>\n",
       "      <td>2017-08-14 07:50:27</td>\n",
       "      <td>2017-08-14 09:05:27</td>\n",
       "      <td>36.895270</td>\n",
       "      <td>-1.341928</td>\n",
       "      <td>1409.0</td>\n",
       "      <td>0.0</td>\n",
       "      <td>0.0</td>\n",
       "      <td>fused</td>\n",
       "      <td>1</td>\n",
       "    </tr>\n",
       "    <tr>\n",
       "      <th>2</th>\n",
       "      <td>2017-06-13 10:34:29</td>\n",
       "      <td>2017-06-13 10:54:48</td>\n",
       "      <td>36.811903</td>\n",
       "      <td>-1.307220</td>\n",
       "      <td>68.4</td>\n",
       "      <td>0.0</td>\n",
       "      <td>0.0</td>\n",
       "      <td>fused</td>\n",
       "      <td>1</td>\n",
       "    </tr>\n",
       "    <tr>\n",
       "      <th>3</th>\n",
       "      <td>2017-06-18 12:16:20</td>\n",
       "      <td>2017-06-18 12:16:24</td>\n",
       "      <td>36.907049</td>\n",
       "      <td>-1.309984</td>\n",
       "      <td>1581.0</td>\n",
       "      <td>0.0</td>\n",
       "      <td>0.0</td>\n",
       "      <td>fused</td>\n",
       "      <td>1</td>\n",
       "    </tr>\n",
       "    <tr>\n",
       "      <th>4</th>\n",
       "      <td>2017-06-28 09:39:08</td>\n",
       "      <td>2017-06-28 09:58:12</td>\n",
       "      <td>36.839396</td>\n",
       "      <td>-1.280310</td>\n",
       "      <td>1396.0</td>\n",
       "      <td>0.0</td>\n",
       "      <td>0.0</td>\n",
       "      <td>fused</td>\n",
       "      <td>1</td>\n",
       "    </tr>\n",
       "  </tbody>\n",
       "</table>\n",
       "</div>"
      ],
      "text/plain": [
       "           gps_fix_at    server_upload_at  longitude  latitude  accuracy  \\\n",
       "0 2017-06-22 09:37:20 2017-06-22 09:43:42  36.840540 -1.294342      68.4   \n",
       "1 2017-08-14 07:50:27 2017-08-14 09:05:27  36.895270 -1.341928    1409.0   \n",
       "2 2017-06-13 10:34:29 2017-06-13 10:54:48  36.811903 -1.307220      68.4   \n",
       "3 2017-06-18 12:16:20 2017-06-18 12:16:24  36.907049 -1.309984    1581.0   \n",
       "4 2017-06-28 09:39:08 2017-06-28 09:58:12  36.839396 -1.280310    1396.0   \n",
       "\n",
       "   altitude  bearing location_provider  user_id  \n",
       "0       0.0      0.0             fused        1  \n",
       "1       0.0      0.0             fused        1  \n",
       "2       0.0      0.0             fused        1  \n",
       "3       0.0      0.0             fused        1  \n",
       "4       0.0      0.0             fused        1  "
      ]
     },
     "execution_count": 34,
     "metadata": {},
     "output_type": "execute_result"
    }
   ],
   "source": [
    "#explore user_gps_fixes\n",
    "user_gps_fixes_df.head()"
   ]
  },
  {
   "cell_type": "code",
   "execution_count": 35,
   "metadata": {},
   "outputs": [
    {
     "data": {
      "text/plain": [
       "gps_fix_at           datetime64[ns]\n",
       "server_upload_at     datetime64[ns]\n",
       "longitude                   float64\n",
       "latitude                    float64\n",
       "accuracy                    float64\n",
       "altitude                    float64\n",
       "bearing                     float64\n",
       "location_provider            object\n",
       "user_id                       int64\n",
       "dtype: object"
      ]
     },
     "execution_count": 35,
     "metadata": {},
     "output_type": "execute_result"
    }
   ],
   "source": [
    "user_gps_fixes_df.dtypes"
   ]
  },
  {
   "cell_type": "code",
   "execution_count": 37,
   "metadata": {},
   "outputs": [
    {
     "data": {
      "text/plain": [
       "278    1615\n",
       "30      619\n",
       "100     494\n",
       "162     416\n",
       "223     398\n",
       "Name: user_id, dtype: int64"
      ]
     },
     "execution_count": 37,
     "metadata": {},
     "output_type": "execute_result"
    }
   ],
   "source": [
    "user_gps_fixes_df['user_id'].value_counts().head()"
   ]
  },
  {
   "cell_type": "code",
   "execution_count": 38,
   "metadata": {},
   "outputs": [
    {
     "data": {
      "text/plain": [
       "fused             23026\n",
       "network            2792\n",
       "gps                 871\n",
       "local_database       21\n",
       "Name: location_provider, dtype: int64"
      ]
     },
     "execution_count": 38,
     "metadata": {},
     "output_type": "execute_result"
    }
   ],
   "source": [
    "user_gps_fixes_df['location_provider'].value_counts()"
   ]
  },
  {
   "cell_type": "code",
   "execution_count": 39,
   "metadata": {},
   "outputs": [
    {
     "data": {
      "text/html": [
       "<div>\n",
       "<style scoped>\n",
       "    .dataframe tbody tr th:only-of-type {\n",
       "        vertical-align: middle;\n",
       "    }\n",
       "\n",
       "    .dataframe tbody tr th {\n",
       "        vertical-align: top;\n",
       "    }\n",
       "\n",
       "    .dataframe thead th {\n",
       "        text-align: right;\n",
       "    }\n",
       "</style>\n",
       "<table border=\"1\" class=\"dataframe\">\n",
       "  <thead>\n",
       "    <tr style=\"text-align: right;\">\n",
       "      <th></th>\n",
       "      <th>longitude</th>\n",
       "      <th>latitude</th>\n",
       "      <th>accuracy</th>\n",
       "      <th>altitude</th>\n",
       "      <th>bearing</th>\n",
       "      <th>user_id</th>\n",
       "    </tr>\n",
       "  </thead>\n",
       "  <tbody>\n",
       "    <tr>\n",
       "      <th>count</th>\n",
       "      <td>26710.000000</td>\n",
       "      <td>26710.000000</td>\n",
       "      <td>2.671000e+04</td>\n",
       "      <td>26710.000000</td>\n",
       "      <td>26710.000000</td>\n",
       "      <td>26710.000000</td>\n",
       "    </tr>\n",
       "    <tr>\n",
       "      <th>mean</th>\n",
       "      <td>36.503743</td>\n",
       "      <td>-1.031422</td>\n",
       "      <td>1.006282e+03</td>\n",
       "      <td>332.259599</td>\n",
       "      <td>15.072191</td>\n",
       "      <td>194.645938</td>\n",
       "    </tr>\n",
       "    <tr>\n",
       "      <th>std</th>\n",
       "      <td>4.172315</td>\n",
       "      <td>1.850920</td>\n",
       "      <td>1.905380e+04</td>\n",
       "      <td>646.511986</td>\n",
       "      <td>57.378459</td>\n",
       "      <td>108.631662</td>\n",
       "    </tr>\n",
       "    <tr>\n",
       "      <th>min</th>\n",
       "      <td>-85.232791</td>\n",
       "      <td>-24.645763</td>\n",
       "      <td>-2.147463e+06</td>\n",
       "      <td>-161.700000</td>\n",
       "      <td>-1.000000</td>\n",
       "      <td>1.000000</td>\n",
       "    </tr>\n",
       "    <tr>\n",
       "      <th>25%</th>\n",
       "      <td>36.163351</td>\n",
       "      <td>-1.299535</td>\n",
       "      <td>2.050275e+01</td>\n",
       "      <td>0.000000</td>\n",
       "      <td>0.000000</td>\n",
       "      <td>103.000000</td>\n",
       "    </tr>\n",
       "    <tr>\n",
       "      <th>50%</th>\n",
       "      <td>36.825059</td>\n",
       "      <td>-1.232870</td>\n",
       "      <td>1.100000e+02</td>\n",
       "      <td>0.000000</td>\n",
       "      <td>0.000000</td>\n",
       "      <td>191.000000</td>\n",
       "    </tr>\n",
       "    <tr>\n",
       "      <th>75%</th>\n",
       "      <td>36.950463</td>\n",
       "      <td>-0.402338</td>\n",
       "      <td>2.200000e+03</td>\n",
       "      <td>0.000000</td>\n",
       "      <td>0.000000</td>\n",
       "      <td>278.000000</td>\n",
       "    </tr>\n",
       "    <tr>\n",
       "      <th>max</th>\n",
       "      <td>117.058355</td>\n",
       "      <td>56.242041</td>\n",
       "      <td>6.451553e+05</td>\n",
       "      <td>3012.900000</td>\n",
       "      <td>359.440000</td>\n",
       "      <td>400.000000</td>\n",
       "    </tr>\n",
       "  </tbody>\n",
       "</table>\n",
       "</div>"
      ],
      "text/plain": [
       "          longitude      latitude      accuracy      altitude       bearing  \\\n",
       "count  26710.000000  26710.000000  2.671000e+04  26710.000000  26710.000000   \n",
       "mean      36.503743     -1.031422  1.006282e+03    332.259599     15.072191   \n",
       "std        4.172315      1.850920  1.905380e+04    646.511986     57.378459   \n",
       "min      -85.232791    -24.645763 -2.147463e+06   -161.700000     -1.000000   \n",
       "25%       36.163351     -1.299535  2.050275e+01      0.000000      0.000000   \n",
       "50%       36.825059     -1.232870  1.100000e+02      0.000000      0.000000   \n",
       "75%       36.950463     -0.402338  2.200000e+03      0.000000      0.000000   \n",
       "max      117.058355     56.242041  6.451553e+05   3012.900000    359.440000   \n",
       "\n",
       "            user_id  \n",
       "count  26710.000000  \n",
       "mean     194.645938  \n",
       "std      108.631662  \n",
       "min        1.000000  \n",
       "25%      103.000000  \n",
       "50%      191.000000  \n",
       "75%      278.000000  \n",
       "max      400.000000  "
      ]
     },
     "execution_count": 39,
     "metadata": {},
     "output_type": "execute_result"
    }
   ],
   "source": [
    "user_gps_fixes_df.describe()"
   ]
  },
  {
   "cell_type": "code",
   "execution_count": 44,
   "metadata": {},
   "outputs": [],
   "source": [
    "#check upload times\n",
    "user_gps_fixes_df['upload_time_in_sec'] = (user_gps_fixes_df['server_upload_at'] - \\\n",
    "                                           user_gps_fixes_df['gps_fix_at']).dt.seconds"
   ]
  },
  {
   "cell_type": "code",
   "execution_count": 49,
   "metadata": {},
   "outputs": [
    {
     "data": {
      "text/plain": [
       "[]"
      ]
     },
     "execution_count": 49,
     "metadata": {},
     "output_type": "execute_result"
    },
    {
     "data": {
      "image/png": "[encoded data removed]",
      "text/plain": [
       "<Figure size 432x288 with 1 Axes>"
      ]
     },
     "metadata": {
      "needs_background": "light"
     },
     "output_type": "display_data"
    }
   ],
   "source": [
    "#plot default rate with upload time\n",
    "upload_time_df = pd.merge(loan_outcomes_df[['user_id', 'loan_outcome']], \n",
    "                             user_gps_fixes_df.groupby('user_id').agg({'upload_time_in_sec': 'mean'}).reset_index(), \n",
    "                             how='left')\n",
    "upload_time_df['upload_time_in_sec'].hist().plot()"
   ]
  },
  {
   "cell_type": "code",
   "execution_count": 52,
   "metadata": {},
   "outputs": [],
   "source": [
    "upload_time_df['upload_time_group'] = pd.qcut(upload_time_df['upload_time_in_sec'], 10, labels=list(range(1,11)))"
   ]
  },
  {
   "cell_type": "code",
   "execution_count": 55,
   "metadata": {},
   "outputs": [],
   "source": [
    "upload_time_df['is_default'] = upload_time_df['loan_outcome'].replace({'defaulted':1,'repaid':0})"
   ]
  },
  {
   "cell_type": "code",
   "execution_count": 53,
   "metadata": {},
   "outputs": [
    {
     "data": {
      "text/html": [
       "<div>\n",
       "<style scoped>\n",
       "    .dataframe tbody tr th:only-of-type {\n",
       "        vertical-align: middle;\n",
       "    }\n",
       "\n",
       "    .dataframe tbody tr th {\n",
       "        vertical-align: top;\n",
       "    }\n",
       "\n",
       "    .dataframe thead th {\n",
       "        text-align: right;\n",
       "    }\n",
       "</style>\n",
       "<table border=\"1\" class=\"dataframe\">\n",
       "  <thead>\n",
       "    <tr style=\"text-align: right;\">\n",
       "      <th></th>\n",
       "      <th>user_id</th>\n",
       "      <th>loan_outcome</th>\n",
       "      <th>upload_time_in_sec</th>\n",
       "      <th>upload_time_group</th>\n",
       "    </tr>\n",
       "  </thead>\n",
       "  <tbody>\n",
       "    <tr>\n",
       "      <th>0</th>\n",
       "      <td>1</td>\n",
       "      <td>defaulted</td>\n",
       "      <td>999.100000</td>\n",
       "      <td>5</td>\n",
       "    </tr>\n",
       "    <tr>\n",
       "      <th>1</th>\n",
       "      <td>2</td>\n",
       "      <td>repaid</td>\n",
       "      <td>3810.100000</td>\n",
       "      <td>7</td>\n",
       "    </tr>\n",
       "    <tr>\n",
       "      <th>2</th>\n",
       "      <td>3</td>\n",
       "      <td>defaulted</td>\n",
       "      <td>12.000000</td>\n",
       "      <td>1</td>\n",
       "    </tr>\n",
       "    <tr>\n",
       "      <th>3</th>\n",
       "      <td>4</td>\n",
       "      <td>defaulted</td>\n",
       "      <td>73.500000</td>\n",
       "      <td>2</td>\n",
       "    </tr>\n",
       "    <tr>\n",
       "      <th>4</th>\n",
       "      <td>5</td>\n",
       "      <td>repaid</td>\n",
       "      <td>178.333333</td>\n",
       "      <td>3</td>\n",
       "    </tr>\n",
       "  </tbody>\n",
       "</table>\n",
       "</div>"
      ],
      "text/plain": [
       "   user_id loan_outcome  upload_time_in_sec upload_time_group\n",
       "0        1    defaulted          999.100000                 5\n",
       "1        2       repaid         3810.100000                 7\n",
       "2        3    defaulted           12.000000                 1\n",
       "3        4    defaulted           73.500000                 2\n",
       "4        5       repaid          178.333333                 3"
      ]
     },
     "execution_count": 53,
     "metadata": {},
     "output_type": "execute_result"
    }
   ],
   "source": [
    "upload_time_df.head()"
   ]
  },
  {
   "cell_type": "code",
   "execution_count": 62,
   "metadata": {},
   "outputs": [
    {
     "data": {
      "text/plain": [
       "<matplotlib.axes._subplots.AxesSubplot at 0x1fd60445548>"
      ]
     },
     "execution_count": 62,
     "metadata": {},
     "output_type": "execute_result"
    },
    {
     "data": {
      "image/png": "[encoded data removed]",
      "text/plain": [
       "<Figure size 432x288 with 1 Axes>"
      ]
     },
     "metadata": {
      "needs_background": "light"
     },
     "output_type": "display_data"
    }
   ],
   "source": [
    "upload_time_df.groupby('upload_time_group').agg({'is_default':sum, 'upload_time_group':'count'}) \\\n",
    "    .rename(columns={'upload_time_group': 'cust_count'}).plot(kind='bar')"
   ]
  },
  {
   "cell_type": "code",
   "execution_count": 67,
   "metadata": {},
   "outputs": [],
   "source": [
    "#check how the gps dates compare to application date\n",
    "user_gps_fixes_df = pd.merge(user_gps_fixes_df, loan_outcomes_df[['user_id', 'application_at']], how='left')"
   ]
  },
  {
   "cell_type": "code",
   "execution_count": 71,
   "metadata": {},
   "outputs": [
    {
     "data": {
      "text/plain": [
       "<matplotlib.axes._subplots.AxesSubplot at 0x1fd60193e48>"
      ]
     },
     "execution_count": 71,
     "metadata": {},
     "output_type": "execute_result"
    },
    {
     "data": {
      "image/png": "[encoded data removed]",
      "text/plain": [
       "<Figure size 432x288 with 1 Axes>"
      ]
     },
     "metadata": {
      "needs_background": "light"
     },
     "output_type": "display_data"
    }
   ],
   "source": [
    "(user_gps_fixes_df['gps_fix_at'] - user_gps_fixes_df['application_at']).dt.seconds.hist()"
   ]
  },
  {
   "cell_type": "markdown",
   "metadata": {},
   "source": [
    "the above graph indicates that all the gps data is after loan disbursement"
   ]
  },
  {
   "cell_type": "code",
   "execution_count": 74,
   "metadata": {},
   "outputs": [],
   "source": [
    "default_dict = {'defaulted':1, 'repaid':0}"
   ]
  },
  {
   "cell_type": "code",
   "execution_count": 77,
   "metadata": {},
   "outputs": [
    {
     "data": {
      "text/plain": [
       "<matplotlib.axes._subplots.AxesSubplot at 0x1fd608745c8>"
      ]
     },
     "execution_count": 77,
     "metadata": {},
     "output_type": "execute_result"
    },
    {
     "data": {
      "image/png": "[encoded data removed]",
      "text/plain": [
       "<Figure size 432x288 with 1 Axes>"
      ]
     },
     "metadata": {
      "needs_background": "light"
     },
     "output_type": "display_data"
    }
   ],
   "source": [
    "#plot default rate with average accuracy of location\n",
    "accuracy_df = pd.merge(user_gps_fixes_df.groupby('user_id').agg({'accuracy':'mean'}).reset_index(), \n",
    "                         loan_outcomes_df[['user_id', 'loan_outcome']].replace(default_dict), how='left')\n",
    "accuracy_df['accuracy_group'] = pd.qcut(accuracy_df['accuracy'], 10, labels=list(range(1,11)))\n",
    "accuracy_df.groupby('accuracy_group').agg({'loan_outcome':sum, 'accuracy_group':'count'}) \\\n",
    "    .rename(columns={'accuracy_group': 'cust_count'}).plot(kind='bar')"
   ]
  },
  {
   "cell_type": "markdown",
   "metadata": {},
   "source": [
    "customers with high accuracy default less"
   ]
  },
  {
   "cell_type": "code",
   "execution_count": 78,
   "metadata": {},
   "outputs": [
    {
     "data": {
      "text/html": [
       "<div>\n",
       "<style scoped>\n",
       "    .dataframe tbody tr th:only-of-type {\n",
       "        vertical-align: middle;\n",
       "    }\n",
       "\n",
       "    .dataframe tbody tr th {\n",
       "        vertical-align: top;\n",
       "    }\n",
       "\n",
       "    .dataframe thead th {\n",
       "        text-align: right;\n",
       "    }\n",
       "</style>\n",
       "<table border=\"1\" class=\"dataframe\">\n",
       "  <thead>\n",
       "    <tr style=\"text-align: right;\">\n",
       "      <th></th>\n",
       "      <th>user_id</th>\n",
       "      <th>age</th>\n",
       "      <th>cash_incoming_30days</th>\n",
       "    </tr>\n",
       "  </thead>\n",
       "  <tbody>\n",
       "    <tr>\n",
       "      <th>0</th>\n",
       "      <td>1</td>\n",
       "      <td>42</td>\n",
       "      <td>8988.12</td>\n",
       "    </tr>\n",
       "    <tr>\n",
       "      <th>1</th>\n",
       "      <td>2</td>\n",
       "      <td>36</td>\n",
       "      <td>9968.12</td>\n",
       "    </tr>\n",
       "    <tr>\n",
       "      <th>2</th>\n",
       "      <td>3</td>\n",
       "      <td>27</td>\n",
       "      <td>59.04</td>\n",
       "    </tr>\n",
       "    <tr>\n",
       "      <th>3</th>\n",
       "      <td>4</td>\n",
       "      <td>38</td>\n",
       "      <td>2129.03</td>\n",
       "    </tr>\n",
       "    <tr>\n",
       "      <th>4</th>\n",
       "      <td>5</td>\n",
       "      <td>33</td>\n",
       "      <td>2102.53</td>\n",
       "    </tr>\n",
       "  </tbody>\n",
       "</table>\n",
       "</div>"
      ],
      "text/plain": [
       "   user_id  age  cash_incoming_30days\n",
       "0        1   42               8988.12\n",
       "1        2   36               9968.12\n",
       "2        3   27                 59.04\n",
       "3        4   38               2129.03\n",
       "4        5   33               2102.53"
      ]
     },
     "execution_count": 78,
     "metadata": {},
     "output_type": "execute_result"
    }
   ],
   "source": [
    "#explore user_attributes_df\n",
    "user_attributes_df.head()"
   ]
  },
  {
   "cell_type": "code",
   "execution_count": 80,
   "metadata": {},
   "outputs": [],
   "source": [
    "user_attributes_df = pd.merge(user_attributes_df, loan_outcomes_df[['user_id', 'loan_outcome']].replace(default_dict))"
   ]
  },
  {
   "cell_type": "code",
   "execution_count": 84,
   "metadata": {},
   "outputs": [
    {
     "data": {
      "image/png": "[encoded data removed]",
      "text/plain": [
       "<Figure size 432x288 with 1 Axes>"
      ]
     },
     "metadata": {
      "needs_background": "light"
     },
     "output_type": "display_data"
    }
   ],
   "source": [
    "plt.hist(user_attributes_df[user_attributes_df['loan_outcome']==1]['age'], alpha=0.5, label='defaulted')\n",
    "plt.hist(user_attributes_df[user_attributes_df['loan_outcome']==0]['age'], alpha=0.5, label='repaid')\n",
    "plt.legend(loc='upper right')\n",
    "plt.show()"
   ]
  },
  {
   "cell_type": "code",
   "execution_count": 85,
   "metadata": {},
   "outputs": [
    {
     "data": {
      "image/png": "[encoded data removed]",
      "text/plain": [
       "<Figure size 432x288 with 1 Axes>"
      ]
     },
     "metadata": {
      "needs_background": "light"
     },
     "output_type": "display_data"
    }
   ],
   "source": [
    "plt.hist(user_attributes_df[user_attributes_df['loan_outcome']==1]['cash_incoming_30days'], alpha=0.5, label='defaulted')\n",
    "plt.hist(user_attributes_df[user_attributes_df['loan_outcome']==0]['cash_incoming_30days'], alpha=0.5, label='repaid')\n",
    "plt.legend(loc='upper right')\n",
    "plt.show()"
   ]
  },
  {
   "cell_type": "code",
   "execution_count": 100,
   "metadata": {},
   "outputs": [
    {
     "data": {
      "text/plain": [
       "<matplotlib.axes._subplots.AxesSubplot at 0x1fd6243ed08>"
      ]
     },
     "execution_count": 100,
     "metadata": {},
     "output_type": "execute_result"
    },
    {
     "data": {
      "image/png": "[encoded data removed]",
      "text/plain": [
       "<Figure size 432x288 with 1 Axes>"
      ]
     },
     "metadata": {
      "needs_background": "light"
     },
     "output_type": "display_data"
    }
   ],
   "source": [
    "#check latitude longitude distribution\n",
    "sns.scatterplot(data=pd.merge(user_gps_fixes_df, loan_outcomes_df[['user_id', 'loan_outcome']], how='left'), \n",
    "                x='longitude', y='latitude', hue='loan_outcome')"
   ]
  },
  {
   "cell_type": "markdown",
   "metadata": {},
   "source": [
    "###### feature engineering\n",
    "\n",
    "Mostly contains min, max, avg features across all the varaibles that are changing with time. But also includes other features by joining multiple dfs. Details are included in the comments with code."
   ]
  },
  {
   "cell_type": "code",
   "execution_count": 86,
   "metadata": {},
   "outputs": [
    {
     "data": {
      "text/html": [
       "<div>\n",
       "<style scoped>\n",
       "    .dataframe tbody tr th:only-of-type {\n",
       "        vertical-align: middle;\n",
       "    }\n",
       "\n",
       "    .dataframe tbody tr th {\n",
       "        vertical-align: top;\n",
       "    }\n",
       "\n",
       "    .dataframe thead th {\n",
       "        text-align: right;\n",
       "    }\n",
       "</style>\n",
       "<table border=\"1\" class=\"dataframe\">\n",
       "  <thead>\n",
       "    <tr style=\"text-align: right;\">\n",
       "      <th></th>\n",
       "      <th>user_id</th>\n",
       "      <th>application_at</th>\n",
       "      <th>loan_outcome</th>\n",
       "    </tr>\n",
       "  </thead>\n",
       "  <tbody>\n",
       "    <tr>\n",
       "      <th>0</th>\n",
       "      <td>1</td>\n",
       "      <td>2017-08-14 09:08:50.000000</td>\n",
       "      <td>defaulted</td>\n",
       "    </tr>\n",
       "    <tr>\n",
       "      <th>1</th>\n",
       "      <td>2</td>\n",
       "      <td>2016-05-17 10:10:12.447976</td>\n",
       "      <td>repaid</td>\n",
       "    </tr>\n",
       "    <tr>\n",
       "      <th>2</th>\n",
       "      <td>3</td>\n",
       "      <td>2016-10-20 10:07:20.459081</td>\n",
       "      <td>defaulted</td>\n",
       "    </tr>\n",
       "    <tr>\n",
       "      <th>3</th>\n",
       "      <td>4</td>\n",
       "      <td>2017-01-13 13:03:34.000000</td>\n",
       "      <td>defaulted</td>\n",
       "    </tr>\n",
       "    <tr>\n",
       "      <th>4</th>\n",
       "      <td>5</td>\n",
       "      <td>2016-11-03 15:41:39.124610</td>\n",
       "      <td>repaid</td>\n",
       "    </tr>\n",
       "  </tbody>\n",
       "</table>\n",
       "</div>"
      ],
      "text/plain": [
       "   user_id             application_at loan_outcome\n",
       "0        1 2017-08-14 09:08:50.000000    defaulted\n",
       "1        2 2016-05-17 10:10:12.447976       repaid\n",
       "2        3 2016-10-20 10:07:20.459081    defaulted\n",
       "3        4 2017-01-13 13:03:34.000000    defaulted\n",
       "4        5 2016-11-03 15:41:39.124610       repaid"
      ]
     },
     "execution_count": 86,
     "metadata": {},
     "output_type": "execute_result"
    }
   ],
   "source": [
    "loan_outcomes_df.head()"
   ]
  },
  {
   "cell_type": "code",
   "execution_count": 87,
   "metadata": {},
   "outputs": [],
   "source": [
    "features_df = loan_outcomes_df.copy()"
   ]
  },
  {
   "cell_type": "code",
   "execution_count": 89,
   "metadata": {},
   "outputs": [],
   "source": [
    "features_df['loan_outcome'] = features_df['loan_outcome'].replace(default_dict)"
   ]
  },
  {
   "cell_type": "code",
   "execution_count": 94,
   "metadata": {},
   "outputs": [],
   "source": [
    "features_df['month_of_application'] = features_df['application_at'].dt.month"
   ]
  },
  {
   "cell_type": "code",
   "execution_count": 96,
   "metadata": {},
   "outputs": [],
   "source": [
    "features_df['hour_of_application'] = features_df['application_at'].dt.hour"
   ]
  },
  {
   "cell_type": "code",
   "execution_count": 104,
   "metadata": {},
   "outputs": [],
   "source": [
    "#average latitude and longitude\n",
    "features_df = pd.merge(features_df, user_gps_fixes_df.groupby('user_id').agg({'latitude': 'mean', 'longitude': 'mean'}) \\\n",
    "                       .reset_index().rename(columns={'latitude': 'mean_lat', 'longitude': 'mean_long'}), how='left')"
   ]
  },
  {
   "cell_type": "code",
   "execution_count": 109,
   "metadata": {},
   "outputs": [],
   "source": [
    "#min max deviation from mean of lat/long\n",
    "user_gps_fixes_df = pd.merge(user_gps_fixes_df, user_gps_fixes_df.groupby('user_id') \\\n",
    "                             .agg({'latitude': 'mean', 'longitude': 'mean'}).reset_index() \\\n",
    "                             .rename(columns={'latitude': 'mean_lat', 'longitude': 'mean_long'}), how='left')"
   ]
  },
  {
   "cell_type": "code",
   "execution_count": 113,
   "metadata": {},
   "outputs": [],
   "source": [
    "user_gps_fixes_df['sq_dist_from_mean'] = (user_gps_fixes_df['mean_lat'] - user_gps_fixes_df['latitude'])**2 + \\\n",
    "                                            (user_gps_fixes_df['mean_long'] - user_gps_fixes_df['longitude'])**2"
   ]
  },
  {
   "cell_type": "code",
   "execution_count": 126,
   "metadata": {},
   "outputs": [],
   "source": [
    "df = user_gps_fixes_df.groupby('user_id').agg({'sq_dist_from_mean': [max, min]})\n",
    "df.columns = df.columns.droplevel()\n",
    "features_df = pd.merge(features_df, df.reset_index().rename(columns={'max': 'max_dist', 'min': 'min_dist'}), how='left')"
   ]
  },
  {
   "cell_type": "code",
   "execution_count": 134,
   "metadata": {},
   "outputs": [],
   "source": [
    "#gps_fix_count - proxy for app opening\n",
    "features_df = pd.merge(features_df, user_gps_fixes_df.groupby('user_id').size().reset_index(name='num_app_open'), how='left')"
   ]
  },
  {
   "cell_type": "code",
   "execution_count": 147,
   "metadata": {},
   "outputs": [],
   "source": [
    "#min, max & mean for some columns\n",
    "cols_for_features = ['upload_time_in_sec', 'altitude', 'accuracy', 'bearing']\n",
    "col_metrics = ['min', 'max', 'mean']\n",
    "df = user_gps_fixes_df.groupby('user_id').agg({key: col_metrics for key in cols_for_features})\n",
    "df.columns = [\"{}_{}\".format(i,j) for i,j in df.columns]\n",
    "features_df = pd.merge(features_df, df.reset_index(), how='left')"
   ]
  },
  {
   "cell_type": "code",
   "execution_count": 170,
   "metadata": {},
   "outputs": [],
   "source": [
    "#location provider count and percentage of total count\n",
    "df = user_gps_fixes_df.groupby(['user_id', 'location_provider']).size().reset_index(name='location_provider_count') \\\n",
    "        .pivot_table(index='user_id', columns='location_provider', values='location_provider_count').reset_index().fillna(0)\n",
    "for col in user_gps_fixes_df['location_provider'].unique():\n",
    "    df['{}_perc'.format(col)] = df[col]/df[user_gps_fixes_df['location_provider'].unique()].sum(axis=1)\n",
    "#merge with features_df\n",
    "features_df = pd.merge(features_df, df, how='left')"
   ]
  },
  {
   "cell_type": "code",
   "execution_count": 174,
   "metadata": {},
   "outputs": [],
   "source": [
    "#drop application_at, get_dummies of month_of_application, group hour_of_application into 4\n",
    "features_df = features_df.drop(columns=['application_at'])"
   ]
  },
  {
   "cell_type": "code",
   "execution_count": 180,
   "metadata": {},
   "outputs": [],
   "source": [
    "features_df = pd.concat([features_df, pd.get_dummies(features_df['month_of_application'], prefix='month_of_application')], \n",
    "                        axis=1)"
   ]
  },
  {
   "cell_type": "code",
   "execution_count": 313,
   "metadata": {},
   "outputs": [],
   "source": [
    "features_df['qcut_hour_group'], qcut_bins = pd.qcut(features_df['hour_of_application'], 4, labels=[i for i in range(1,5)], \n",
    "                                                    retbins=True)"
   ]
  },
  {
   "cell_type": "code",
   "execution_count": 314,
   "metadata": {},
   "outputs": [],
   "source": [
    "features_df['equi_dist_hour_group'], cut_bins = pd.cut(features_df['hour_of_application'], 4, \n",
    "                                                       labels=[i for i in range(1,5)], retbins=True)"
   ]
  },
  {
   "cell_type": "code",
   "execution_count": 192,
   "metadata": {},
   "outputs": [],
   "source": [
    "#merge age and cash income\n",
    "features_df = pd.merge(features_df, user_attributes_df[['user_id', 'age', 'cash_incoming_30days']], how='left')"
   ]
  },
  {
   "cell_type": "markdown",
   "metadata": {},
   "source": [
    "The idea is to build a seperate model for customers where gps data is not available. This model will only be built on non-gps data such as income, age and login date"
   ]
  },
  {
   "cell_type": "markdown",
   "metadata": {},
   "source": [
    "#### Modeling"
   ]
  },
  {
   "cell_type": "code",
   "execution_count": 198,
   "metadata": {},
   "outputs": [],
   "source": [
    "not_null_custs = features_df.dropna().reset_index(drop=True)"
   ]
  },
  {
   "cell_type": "code",
   "execution_count": 200,
   "metadata": {},
   "outputs": [],
   "source": [
    "X = not_null_custs.drop(columns=['user_id', 'loan_outcome'])\n",
    "Y = not_null_custs['loan_outcome']"
   ]
  },
  {
   "cell_type": "code",
   "execution_count": 201,
   "metadata": {},
   "outputs": [],
   "source": [
    "X_train, X_test, y_train, y_test = train_test_split(X, Y, test_size=0.2, stratify=Y)"
   ]
  },
  {
   "cell_type": "code",
   "execution_count": 202,
   "metadata": {},
   "outputs": [
    {
     "data": {
      "text/plain": [
       "0    149\n",
       "1    148\n",
       "Name: loan_outcome, dtype: int64"
      ]
     },
     "execution_count": 202,
     "metadata": {},
     "output_type": "execute_result"
    }
   ],
   "source": [
    "y_train.value_counts()"
   ]
  },
  {
   "cell_type": "code",
   "execution_count": 203,
   "metadata": {},
   "outputs": [
    {
     "data": {
      "text/plain": [
       "0    38\n",
       "1    37\n",
       "Name: loan_outcome, dtype: int64"
      ]
     },
     "execution_count": 203,
     "metadata": {},
     "output_type": "execute_result"
    }
   ],
   "source": [
    "y_test.value_counts()"
   ]
  },
  {
   "cell_type": "code",
   "execution_count": 205,
   "metadata": {},
   "outputs": [
    {
     "data": {
      "text/plain": [
       "VarianceThreshold(threshold=0.01)"
      ]
     },
     "execution_count": 205,
     "metadata": {},
     "output_type": "execute_result"
    }
   ],
   "source": [
    "#removing columns with zero variance\n",
    "constant_filter = VarianceThreshold(threshold=0.01)\n",
    "constant_filter.fit(X_train)"
   ]
  },
  {
   "cell_type": "code",
   "execution_count": 209,
   "metadata": {},
   "outputs": [],
   "source": [
    "model_columns = X_train.columns[constant_filter.get_support()]"
   ]
  },
  {
   "cell_type": "code",
   "execution_count": 212,
   "metadata": {},
   "outputs": [
    {
     "name": "stdout",
     "output_type": "stream",
     "text": [
      "Features with almost constant values removed:  {'local_database', 'local_database_perc'}\n"
     ]
    }
   ],
   "source": [
    "print(\"Features with almost constant values removed: \", set(X_train.columns) - set(model_columns))"
   ]
  },
  {
   "cell_type": "code",
   "execution_count": 216,
   "metadata": {},
   "outputs": [],
   "source": [
    "#updating X_train\n",
    "X_train = X_train[model_columns]"
   ]
  },
  {
   "cell_type": "code",
   "execution_count": 227,
   "metadata": {},
   "outputs": [],
   "source": [
    "#removing correlated features\n",
    "corr_matrix = not_null_custs.drop(columns=['user_id', 'local_database', 'local_database_perc', 'loan_outcome']).corr()"
   ]
  },
  {
   "cell_type": "code",
   "execution_count": 229,
   "metadata": {},
   "outputs": [],
   "source": [
    "correlation_threshold = 0.75\n",
    "corelated_features = set()\n",
    "for i in range(len(corr_matrix.columns)):\n",
    "    for j in range(i):\n",
    "        if abs(corr_matrix.iloc[i,j])>correlation_threshold:\n",
    "            corelated_features.add(corr_matrix.columns[i])"
   ]
  },
  {
   "cell_type": "code",
   "execution_count": 235,
   "metadata": {},
   "outputs": [],
   "source": [
    "#drop correlated_features\n",
    "X_train = X_train.drop(columns=corelated_features)"
   ]
  },
  {
   "cell_type": "markdown",
   "metadata": {},
   "source": [
    "This is just a simple classification model with no hyper-parameter tuning at all. The idea is to show the approach rather than high accuracy. With more data and actual scenario, something like cross-validation and hyper-parameter tuning using gridsearch or randomsearch. Also, since the data is less too much tuning would result in very small incremental gains."
   ]
  },
  {
   "cell_type": "code",
   "execution_count": 252,
   "metadata": {},
   "outputs": [],
   "source": [
    "clf = RandomForestClassifier(min_samples_split=0.1)"
   ]
  },
  {
   "cell_type": "code",
   "execution_count": 253,
   "metadata": {},
   "outputs": [
    {
     "data": {
      "text/plain": [
       "RandomForestClassifier(bootstrap=True, ccp_alpha=0.0, class_weight=None,\n",
       "                       criterion='gini', max_depth=None, max_features='auto',\n",
       "                       max_leaf_nodes=None, max_samples=None,\n",
       "                       min_impurity_decrease=0.0, min_impurity_split=None,\n",
       "                       min_samples_leaf=1, min_samples_split=0.1,\n",
       "                       min_weight_fraction_leaf=0.0, n_estimators=100,\n",
       "                       n_jobs=None, oob_score=False, random_state=None,\n",
       "                       verbose=0, warm_start=False)"
      ]
     },
     "execution_count": 253,
     "metadata": {},
     "output_type": "execute_result"
    }
   ],
   "source": [
    "clf.fit(X_train, y_train)"
   ]
  },
  {
   "cell_type": "code",
   "execution_count": 273,
   "metadata": {},
   "outputs": [
    {
     "data": {
      "image/png": "[encoded data removed]",
      "text/plain": [
       "<Figure size 432x288 with 1 Axes>"
      ]
     },
     "metadata": {
      "needs_background": "light"
     },
     "output_type": "display_data"
    }
   ],
   "source": [
    "#feature importance\n",
    "num_features = 15\n",
    "plt.figure()\n",
    "plt.title(\"Feature Imp - Top {} features\".format(num_features))\n",
    "plt.bar(X_train.columns[np.argsort(clf.feature_importances_)[::-1]][:num_features], \n",
    "        clf.feature_importances_[np.argsort(clf.feature_importances_)[::-1]][:num_features])\n",
    "plt.xticks(rotation='vertical')\n",
    "plt.show()"
   ]
  },
  {
   "cell_type": "code",
   "execution_count": 282,
   "metadata": {},
   "outputs": [],
   "source": [
    "#building second model for customers where gps data is not available\n",
    "X_train2, X_test2, y_train2, y_test2 = train_test_split(features_df[list(features_df.isna().sum() \\\n",
    "                        [features_df.isna().sum()==0].index)].drop(columns=['user_id', 'loan_outcome']), \n",
    "                        features_df['loan_outcome'], test_size=0.2, stratify=features_df['loan_outcome'])"
   ]
  },
  {
   "cell_type": "code",
   "execution_count": 283,
   "metadata": {},
   "outputs": [
    {
     "data": {
      "text/plain": [
       "1    160\n",
       "0    160\n",
       "Name: loan_outcome, dtype: int64"
      ]
     },
     "execution_count": 283,
     "metadata": {},
     "output_type": "execute_result"
    }
   ],
   "source": [
    "y_train2.value_counts()"
   ]
  },
  {
   "cell_type": "code",
   "execution_count": 284,
   "metadata": {},
   "outputs": [
    {
     "data": {
      "text/plain": [
       "1    40\n",
       "0    40\n",
       "Name: loan_outcome, dtype: int64"
      ]
     },
     "execution_count": 284,
     "metadata": {},
     "output_type": "execute_result"
    }
   ],
   "source": [
    "y_test2.value_counts()"
   ]
  },
  {
   "cell_type": "code",
   "execution_count": 288,
   "metadata": {},
   "outputs": [],
   "source": [
    "correlation_threshold = 0.75\n",
    "corelated_features = set()\n",
    "corr_matrix = X_train2.corr()\n",
    "for i in range(len(corr_matrix.columns)):\n",
    "    for j in range(i):\n",
    "        if abs(corr_matrix.iloc[i,j])>correlation_threshold:\n",
    "            corelated_features.add(corr_matrix.columns[i])"
   ]
  },
  {
   "cell_type": "code",
   "execution_count": 290,
   "metadata": {},
   "outputs": [
    {
     "data": {
      "text/plain": [
       "0"
      ]
     },
     "execution_count": 290,
     "metadata": {},
     "output_type": "execute_result"
    }
   ],
   "source": [
    "len(corelated_features) #no correlated features"
   ]
  },
  {
   "cell_type": "code",
   "execution_count": 297,
   "metadata": {},
   "outputs": [],
   "source": [
    "clf2 = RandomForestClassifier(min_samples_split=0.15)"
   ]
  },
  {
   "cell_type": "code",
   "execution_count": 298,
   "metadata": {},
   "outputs": [
    {
     "data": {
      "text/plain": [
       "RandomForestClassifier(bootstrap=True, ccp_alpha=0.0, class_weight=None,\n",
       "                       criterion='gini', max_depth=None, max_features='auto',\n",
       "                       max_leaf_nodes=None, max_samples=None,\n",
       "                       min_impurity_decrease=0.0, min_impurity_split=None,\n",
       "                       min_samples_leaf=1, min_samples_split=0.15,\n",
       "                       min_weight_fraction_leaf=0.0, n_estimators=100,\n",
       "                       n_jobs=None, oob_score=False, random_state=None,\n",
       "                       verbose=0, warm_start=False)"
      ]
     },
     "execution_count": 298,
     "metadata": {},
     "output_type": "execute_result"
    }
   ],
   "source": [
    "clf2.fit(X_train2, y_train2)"
   ]
  },
  {
   "cell_type": "code",
   "execution_count": 299,
   "metadata": {},
   "outputs": [
    {
     "data": {
      "image/png": "[encoded data removed]",
      "text/plain": [
       "<Figure size 432x288 with 1 Axes>"
      ]
     },
     "metadata": {
      "needs_background": "light"
     },
     "output_type": "display_data"
    }
   ],
   "source": [
    "#feature importance\n",
    "num_features = 15\n",
    "plt.figure()\n",
    "plt.title(\"Feature Imp - Top {} features\".format(num_features))\n",
    "plt.bar(X_train2.columns[np.argsort(clf2.feature_importances_)[::-1]][:num_features], \n",
    "        clf2.feature_importances_[np.argsort(clf2.feature_importances_)[::-1]][:num_features])\n",
    "plt.xticks(rotation='vertical')\n",
    "plt.show()"
   ]
  },
  {
   "cell_type": "code",
   "execution_count": 304,
   "metadata": {},
   "outputs": [],
   "source": [
    "#save models\n",
    "model_name_1 = 'model_1.sav'\n",
    "model_name_2 = 'model_2.sav'\n",
    "pickle.dump(clf, open(model_name_1, 'wb'))\n",
    "pickle.dump(clf2, open(model_name_2, 'wb'))"
   ]
  },
  {
   "cell_type": "markdown",
   "metadata": {},
   "source": [
    "#### Model's Performance\n",
    "\n",
    "Performance is evaluated 2 ways:\n",
    "    1. classifaction report which gives precision, recall and f1\n",
    "    2. confusion matrix which indicates TP, TN, FP, FN"
   ]
  },
  {
   "cell_type": "code",
   "execution_count": 254,
   "metadata": {},
   "outputs": [
    {
     "name": "stdout",
     "output_type": "stream",
     "text": [
      "Training Data Results\n",
      "              precision    recall  f1-score   support\n",
      "\n",
      "      repaid       0.87      0.85      0.86       149\n",
      "   defaulted       0.85      0.87      0.86       148\n",
      "\n",
      "    accuracy                           0.86       297\n",
      "   macro avg       0.86      0.86      0.86       297\n",
      "weighted avg       0.86      0.86      0.86       297\n",
      "\n"
     ]
    }
   ],
   "source": [
    "print(\"Training Data Results\")\n",
    "labels = ['repaid', 'defaulted']\n",
    "print(classification_report(y_train, clf.predict(X_train), target_names=labels))"
   ]
  },
  {
   "cell_type": "code",
   "execution_count": 255,
   "metadata": {},
   "outputs": [
    {
     "name": "stdout",
     "output_type": "stream",
     "text": [
      "Test Data Results\n",
      "              precision    recall  f1-score   support\n",
      "\n",
      "      repaid       0.71      0.71      0.71        38\n",
      "   defaulted       0.70      0.70      0.70        37\n",
      "\n",
      "    accuracy                           0.71        75\n",
      "   macro avg       0.71      0.71      0.71        75\n",
      "weighted avg       0.71      0.71      0.71        75\n",
      "\n"
     ]
    }
   ],
   "source": [
    "print(\"Test Data Results\")\n",
    "print(classification_report(y_test, clf.predict(X_test[X_train.columns]), target_names=labels))"
   ]
  },
  {
   "cell_type": "code",
   "execution_count": 259,
   "metadata": {},
   "outputs": [
    {
     "name": "stdout",
     "output_type": "stream",
     "text": [
      "Training confusion matrix\n",
      "[[127  22]\n",
      " [ 19 129]]\n",
      "Testing confusion matrix\n",
      "[[27 11]\n",
      " [11 26]]\n"
     ]
    }
   ],
   "source": [
    "print(\"Training confusion matrix\")\n",
    "print(confusion_matrix(y_train, clf.predict(X_train)))\n",
    "print(\"Testing confusion matrix\")\n",
    "print(confusion_matrix(y_test, clf.predict(X_test[X_train.columns])))"
   ]
  },
  {
   "cell_type": "markdown",
   "metadata": {},
   "source": [
    "###### Model2 performance"
   ]
  },
  {
   "cell_type": "code",
   "execution_count": 300,
   "metadata": {},
   "outputs": [
    {
     "name": "stdout",
     "output_type": "stream",
     "text": [
      "Training Data Results\n",
      "              precision    recall  f1-score   support\n",
      "\n",
      "      repaid       0.80      0.76      0.78       160\n",
      "   defaulted       0.77      0.81      0.79       160\n",
      "\n",
      "    accuracy                           0.78       320\n",
      "   macro avg       0.79      0.78      0.78       320\n",
      "weighted avg       0.79      0.78      0.78       320\n",
      "\n"
     ]
    }
   ],
   "source": [
    "print(\"Training Data Results\")\n",
    "print(classification_report(y_train2, clf2.predict(X_train2), target_names=labels))"
   ]
  },
  {
   "cell_type": "code",
   "execution_count": 301,
   "metadata": {},
   "outputs": [
    {
     "name": "stdout",
     "output_type": "stream",
     "text": [
      "Test Data Results\n",
      "              precision    recall  f1-score   support\n",
      "\n",
      "      repaid       0.59      0.50      0.54        40\n",
      "   defaulted       0.57      0.65      0.60        40\n",
      "\n",
      "    accuracy                           0.57        80\n",
      "   macro avg       0.58      0.57      0.57        80\n",
      "weighted avg       0.58      0.57      0.57        80\n",
      "\n"
     ]
    }
   ],
   "source": [
    "print(\"Test Data Results\")\n",
    "print(classification_report(y_test2, clf2.predict(X_test2[X_train2.columns]), target_names=labels))"
   ]
  },
  {
   "cell_type": "code",
   "execution_count": 302,
   "metadata": {},
   "outputs": [
    {
     "name": "stdout",
     "output_type": "stream",
     "text": [
      "Training confusion matrix\n",
      "[[121  39]\n",
      " [ 30 130]]\n",
      "Testing confusion matrix\n",
      "[[20 20]\n",
      " [14 26]]\n"
     ]
    }
   ],
   "source": [
    "print(\"Training confusion matrix\")\n",
    "print(confusion_matrix(y_train2, clf2.predict(X_train2)))\n",
    "print(\"Testing confusion matrix\")\n",
    "print(confusion_matrix(y_test2, clf2.predict(X_test2)))"
   ]
  },
  {
   "cell_type": "markdown",
   "metadata": {},
   "source": [
    "#### API\n",
    "\n",
    "The objective here is to create an API that can be converted to a REST API. The below class needs to be instantiated with a http server and that's it. The `score` function in the class handles all the feature engineering required to score the customer."
   ]
  },
  {
   "cell_type": "code",
   "execution_count": 410,
   "metadata": {},
   "outputs": [],
   "source": [
    "#create a class to run model and other functions\n",
    "class RunModel(object):\n",
    "    def __init__(self, model_1_filename, model_2_filename, model_1_cols, model_2_cols, qcut_hour_bins, cut_hour_bins, \n",
    "                 qcut_hour_labels, cut_hour_labels):\n",
    "        self.model_1 = pickle.load(open(model_1_filename, 'rb'))\n",
    "        self.model_2 = pickle.load(open(model_2_filename, 'rb'))\n",
    "        self.qcut_hour_bins = qcut_hour_bins\n",
    "        self.cut_hour_bins = cut_hour_bins\n",
    "        self.qcut_hour_labels = qcut_hour_labels\n",
    "        self.cut_hour_labels = cut_hour_labels\n",
    "        self.model_1_cols = model_1_cols\n",
    "        self.model_2_cols = model_2_cols\n",
    "    \n",
    "    def is_gps_data_preset(self, data):\n",
    "        #for now this will be a simple check to count the number of records in user_gps_fixes\n",
    "        if 'user_gps_fixes' in data:\n",
    "            return True\n",
    "        return False\n",
    "    \n",
    "    def get_application_features(self, application_dt):\n",
    "        result_dict = {}\n",
    "        result_dict['month_of_application'] = application_dt.month\n",
    "        result_dict['hour_of_application'] = application_dt.hour\n",
    "        for i in range(1,13):\n",
    "            result_dict['month_of_application_{}'.format(i)] = 1 if i==application_dt.month else 0\n",
    "        result_dict['qcut_hour_group'] = pd.cut([application_dt.hour], bins=self.qcut_hour_bins, \n",
    "                                                labels=self.qcut_hour_labels, include_lowest=True)\n",
    "        result_dict['equi_dist_hour_group'] = pd.cut([application_dt.hour], bins=self.cut_hour_bins, \n",
    "                                                labels=self.cut_hour_labels, include_lowest=True)\n",
    "        return result_dict\n",
    "    \n",
    "    def get_gps_fix_features(self, gps_fix_data):\n",
    "        gps_fix_data_df = pd.DataFrame(gps_fix_data)\n",
    "        #create result_dict\n",
    "        result_dict = {}\n",
    "        result_dict['mean_lat'] = gps_fix_data_df['latitude'].mean()\n",
    "        result_dict['mean_long'] = gps_fix_data_df['longitude'].mean()\n",
    "        \n",
    "        #create req. features\n",
    "        gps_fix_data_df['dist'] = (gps_fix_data_df['latitude'] - result_dict['mean_lat'])**2 + \\\n",
    "                                    (gps_fix_data_df['longitude'] - result_dict['mean_long'])**2\n",
    "        gps_fix_data_df['upload_time'] = (gps_fix_data_df['server_upload_at'] - gps_fix_data_df['gps_fix_at']).dt.seconds\n",
    "                \n",
    "        result_dict['max_dist'] = gps_fix_data_df['dist'].max()\n",
    "        result_dict['num_app_open'] = len(gps_fix_data)\n",
    "        result_dict['upload_time_in_sec_min'] = gps_fix_data_df['upload_time'].min()\n",
    "        result_dict['upload_time_in_sec_mean'] = gps_fix_data_df['upload_time'].mean()\n",
    "        result_dict['upload_time_in_sec_max'] = gps_fix_data_df['upload_time'].max()\n",
    "        result_dict['altitude_min'] = gps_fix_data_df['altitude'].min()\n",
    "        result_dict['altitude_max'] = gps_fix_data_df['altitude'].max()\n",
    "        result_dict['altitude_mean'] = gps_fix_data_df['altitude'].mean()\n",
    "        result_dict['accuracy_min'] = gps_fix_data_df['accuracy'].min()\n",
    "        result_dict['accuracy_mean'] = gps_fix_data_df['accuracy'].mean()\n",
    "        result_dict['bearing_min'] = gps_fix_data_df['bearing'].min()\n",
    "        result_dict['bearing_max'] = gps_fix_data_df['bearing'].max()\n",
    "        result_dict['bearing_mean'] = gps_fix_data_df['bearing'].mean()\n",
    "        result_dict['gps'] = gps_fix_data_df[gps_fix_data_df['location_provider']=='gps'].shape[0]\n",
    "        result_dict['network'] = gps_fix_data_df[gps_fix_data_df['location_provider']=='network'].shape[0]\n",
    "        result_dict['fused_perc'] = gps_fix_data_df[gps_fix_data_df['location_provider']=='fused'].shape[0]/ \\\n",
    "                                        result_dict['num_app_open']\n",
    "        result_dict['gps_perc'] = gps_fix_data_df[gps_fix_data_df['location_provider']=='gps'].shape[0]/ \\\n",
    "                                        result_dict['num_app_open']\n",
    "        return result_dict\n",
    "    \n",
    "    def get_user_attributes_features(self, user_attributes_data):\n",
    "        return {'age': user_attributes_data['age'], 'cash_incoming_30days': user_attributes_data['cash_incoming_30days']}\n",
    "    \n",
    "    def create_gps_features(self, single_cust_data):\n",
    "        #create features in the same order as req. by model_1\n",
    "        application_features = self.get_application_features(single_cust_data['application_dt'])\n",
    "        gps_fix_features = self.get_gps_fix_features(single_cust_data['user_gps_fixes'])\n",
    "        user_attributes_features = self.get_user_attributes_features(single_cust_data['user_attributes'])\n",
    "        #code to merge basis model features\n",
    "        merged_features = pd.DataFrame({**application_features, **gps_fix_features, **user_attributes_features}) \\\n",
    "                            [self.model_1_cols]\n",
    "        return merged_features.to_numpy()\n",
    "    \n",
    "    def create_application_features(self, single_cust_data):\n",
    "        #create features in the same order as req. by model_2\n",
    "        application_features = self.get_application_features(single_cust_data['application_dt'])\n",
    "        user_attributes_features = self.get_user_attributes_features(single_cust_data['user_attributes'])\n",
    "        #code to merge basis model features\n",
    "        merged_features = pd.DataFrame({**application_features, **user_attributes_features})[self.model_2_cols]\n",
    "        return merged_features.to_numpy()\n",
    "    \n",
    "    def score(self, single_cust_data):\n",
    "        #here we're assuming that single_cust_data is a dictionary of the same form as the tables used for training\n",
    "        #sample : {'application_dt': 2017-08-14 09:08:50.000000, \n",
    "        # 'user_gps_fixes': [list of dict values of all columns as in DB, except user_id], \n",
    "        # 'user_attributes': {'age': 40, 'cash_incoming_30days': 10000}}. Therefore no validation on input_data has been \n",
    "        #coded here. In production however, this would not be the case.\n",
    "        if self.is_gps_data_preset(single_cust_data):\n",
    "            features = self.create_gps_features(single_cust_data)\n",
    "            result = self.model_1.predict(features)\n",
    "        else:\n",
    "            features = self.create_application_features(single_cust_data)\n",
    "            result = self.model_2.predict(features)\n",
    "        return {\"will_default\": 1} if result else {\"will_default\": 0}"
   ]
  },
  {
   "cell_type": "code",
   "execution_count": 411,
   "metadata": {},
   "outputs": [],
   "source": [
    "#create object of class\n",
    "run_model = RunModel(model_1_filename=model_name_1, model_2_filename=model_name_2, model_1_cols=X_train.columns, \n",
    "                     model_2_cols=X_train2.columns, qcut_hour_bins=qcut_bins, cut_hour_bins=cut_bins, \n",
    "                     qcut_hour_labels=list(range(1,5)), cut_hour_labels=list(range(1,5)))"
   ]
  },
  {
   "cell_type": "code",
   "execution_count": 412,
   "metadata": {},
   "outputs": [],
   "source": [
    "def get_data_for_user_in_dict(user_id, return_gps_data=True):\n",
    "    input_data = {}\n",
    "    input_data['application_dt'] = loan_outcomes_df[loan_outcomes_df['user_id']==random_user]['application_at'].iloc[0]\n",
    "    if return_gps_data:\n",
    "        input_data['user_gps_fixes'] = user_gps_fixes_df[user_gps_fixes_df['user_id']==random_user][['gps_fix_at', \n",
    "                                            'server_upload_at', 'longitude', 'latitude', 'accuracy', 'altitude', 'bearing', \n",
    "                                            'location_provider']].to_dict('records')\n",
    "    input_data['user_attributes'] = user_attributes_df[user_attributes_df['user_id']==random_user][['age', \n",
    "                                    'cash_incoming_30days']].to_dict('records')[0]\n",
    "    return input_data"
   ]
  },
  {
   "cell_type": "code",
   "execution_count": 413,
   "metadata": {},
   "outputs": [],
   "source": [
    "#create a sample dictionary as input\n",
    "random_user = random.choice(user_gps_fixes_df['user_id'].unique())\n",
    "input_data_with_gps = get_data_for_user_in_dict(random_user)\n",
    "input_data_wo_gps = get_data_for_user_in_dict(random_user, return_gps_data=False)"
   ]
  },
  {
   "cell_type": "code",
   "execution_count": 414,
   "metadata": {},
   "outputs": [
    {
     "name": "stdout",
     "output_type": "stream",
     "text": [
      "With GPS output {'will_default': 1}\n",
      "Without GPS output {'will_default': 1}\n"
     ]
    }
   ],
   "source": [
    "print(\"With GPS output\", run_model.score(input_data_with_gps))\n",
    "print(\"Without GPS output\", run_model.score(input_data_wo_gps))"
   ]
  },
  {
   "cell_type": "markdown",
   "metadata": {},
   "source": [
    "The above result indicates that this customer will default. Although I have put both results i.e. with GPS data and w/o GPS data, ideally one customer will fall into only one category. The above example is just for respresentation purposes to show how the API handles both."
   ]
  },
  {
   "cell_type": "markdown",
   "metadata": {},
   "source": [
    "#### Ideas if this was a large dataset with more users\n",
    "1. A sequence classifier could be tried as the gps data is a sequence of events. For eg. some kind of RNN\n",
    "2. Some automated time series feature engineering could be done\n",
    "3. Ensemble ML methods could be tried\n",
    "4. A lot more attributes could maybe give rise to distinct clusters in the data, for which different models could be built\n",
    "5. Using external dataset related to longitudes and latitudes could be used to create geogrphical attributes such as distance to city center, household population in vicinity, per capita income in that area etc."
   ]
  }
 ],
 "metadata": {
  "kernelspec": {
   "display_name": "Python 3",
   "language": "python",
   "name": "python3"
  },
  "language_info": {
   "codemirror_mode": {
    "name": "ipython",
    "version": 3
   },
   "file_extension": ".py",
   "mimetype": "text/x-python",
   "name": "python",
   "nbconvert_exporter": "python",
   "pygments_lexer": "ipython3",
   "version": "3.7.7"
  }
 },
 "nbformat": 4,
 "nbformat_minor": 4
}
